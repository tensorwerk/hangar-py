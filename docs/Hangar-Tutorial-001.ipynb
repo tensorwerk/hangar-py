{
 "cells": [
  {
   "cell_type": "markdown",
   "metadata": {},
   "source": [
    "## Part 1: Creating A Repository And Working With Data\n",
    "\n",
    "\n",
    "This tutorial will review the first steps of working with a hangar repository. \n",
    "\n",
    "To fit with the beginner's theme, we will use the MNIST dataset. Later examples will show off how to work with much more complex data."
   ]
  },
  {
   "cell_type": "code",
   "execution_count": 1,
   "metadata": {},
   "outputs": [],
   "source": [
    "from hangar import Repository\n",
    "\n",
    "import numpy as np\n",
    "import pickle\n",
    "import gzip\n",
    "import matplotlib.pyplot as plt\n",
    "\n",
    "from tqdm import tqdm"
   ]
  },
  {
   "cell_type": "markdown",
   "metadata": {},
   "source": [
    "### Creating & Interacting with a Hangar Repository\n",
    "\n",
    "Hangar is designed to “just make sense” in every operation you have to perform.\n",
    "As such, there is a single interface which all interaction begins with: the\n",
    "``Repository`` object.\n",
    "\n",
    "Weather a hangar repository exists at the path you specify or not, just tell\n",
    "hangar where it should live!\n",
    "\n",
    "#### Intitializing a repository\n",
    "\n",
    "The first time you want to work with a new repository, the ``init()`` method\n",
    "must be called. This is where you provide hangar with your name and email\n",
    "address (to be used in the commit log), as well as implicitly confirming that\n",
    "you do want to create the underlying data files hangar uses on disk."
   ]
  },
  {
   "cell_type": "code",
   "execution_count": 2,
   "metadata": {},
   "outputs": [
    {
     "data": {
      "text/plain": [
       "'/Users/rick/projects/tensorwerk/hangar/dev/mnist/.hangar'"
      ]
     },
     "execution_count": 2,
     "metadata": {},
     "output_type": "execute_result"
    }
   ],
   "source": [
    "repo = Repository(path='/Users/rick/projects/tensorwerk/hangar/dev/mnist/')\n",
    "\n",
    "# First time a repository is accessed only!\n",
    "# Note: if you feed a path to the `Repository` which does not contain a pre-iniitlized hangar repo, \n",
    "# when the Repository object is initialized it will let you know that you need to run `init()`\n",
    "\n",
    "repo.init(user_name='Rick Izzo', user_email='rick@tensorwerk.com')"
   ]
  },
  {
   "cell_type": "markdown",
   "metadata": {},
   "source": [
    "#### Checking out the repo for writing\n",
    "\n",
    "A repository can be checked out in two modes:\n",
    "\n",
    "1. write-enabled: applies all operations to the staging area’s current\n",
    "   state. Only one write-enabled checkout can be active at a different time,\n",
    "   must be closed upon last use, or manual intervention will be needed to remove\n",
    "   the writer lock.\n",
    "\n",
    "2. read-only: checkout a commit or branch to view repository state as it\n",
    "   existed at that point in time.\n",
    "   \n",
    "#### Lots of useful information is in the ipython `__repr__`\n",
    "\n",
    "If you're ever in doubt about what the state of the object your working\n",
    "on is, just call it's reps, and the most relevant information will be\n",
    "sent to your screen!"
   ]
  },
  {
   "cell_type": "code",
   "execution_count": 42,
   "metadata": {},
   "outputs": [
    {
     "data": {
      "text/plain": [
       "Hangar WriterCheckout                \n",
       "    Writer       : True                \n",
       "    Base Branch  : master                \n",
       "    Num Datacells : 2                \n",
       "    Num Metadata : 0\n"
      ]
     },
     "execution_count": 42,
     "metadata": {},
     "output_type": "execute_result"
    }
   ],
   "source": [
    "co = repo.checkout(write=True)\n",
    "co"
   ]
  },
  {
   "cell_type": "markdown",
   "metadata": {},
   "source": [
    "#### A checkout allows access to `datacells` and `metadata`\n",
    "\n",
    "The `datacell` and `metadata` attributes of a checkout provide\n",
    "the interface to working with all of the data on disk!"
   ]
  },
  {
   "cell_type": "code",
   "execution_count": 43,
   "metadata": {},
   "outputs": [
    {
     "data": {
      "text/plain": [
       "Hangar Datacells                \n",
       "    Writeable: True                \n",
       "    Datacell Names / Partial Remote References:                \n",
       "      - train_images / False\n",
       "      - train_labels / False"
      ]
     },
     "execution_count": 43,
     "metadata": {},
     "output_type": "execute_result"
    }
   ],
   "source": [
    "co.datacells"
   ]
  },
  {
   "cell_type": "code",
   "execution_count": 5,
   "metadata": {},
   "outputs": [
    {
     "data": {
      "text/plain": [
       "Hangar Metadata                \n",
       "    Writeable: True                \n",
       "    Number of Keys: 0\n"
      ]
     },
     "execution_count": 5,
     "metadata": {},
     "output_type": "execute_result"
    }
   ],
   "source": [
    "co.metadata"
   ]
  },
  {
   "cell_type": "markdown",
   "metadata": {},
   "source": [
    "### Before data can be added to a repository, a datacell must be initialized.\n",
    "\n",
    "We're going to first load up a the MNIST pickled dataset so it can be added to\n",
    "the repo!"
   ]
  },
  {
   "cell_type": "code",
   "execution_count": 9,
   "metadata": {},
   "outputs": [],
   "source": [
    "# Load the dataset\n",
    "with gzip.open('/Users/rick/projects/tensorwerk/hangar/dev/data/mnist.pkl.gz', 'rb') as f:\n",
    "    train_set, valid_set, test_set = pickle.load(f, encoding='bytes')\n",
    "\n",
    "def rescale(array):\n",
    "    array = array * 256\n",
    "    rounded = np.round(array)\n",
    "    return rounded.astype(np.uint8())\n",
    "\n",
    "sample_trimg = rescale(train_set[0][0])\n",
    "sample_trlabel = np.array([train_set[1][0]])\n",
    "trimgs = rescale(train_set[0])\n",
    "trlabels = train_set[1]"
   ]
  },
  {
   "cell_type": "markdown",
   "metadata": {},
   "source": [
    "#### Before data can be added to a repository, a datacell must be initialized. \n",
    "\n",
    "A Datacell is a named grouping of data samples where each sample shares a\n",
    "number of similar attributes and array properties. See the docstrings in\n",
    "`co.datacells.init_datacell`:\n",
    "\n",
    "```\n",
    "Initializes a datacell in the repository.\n",
    "\n",
    "Datacells are groups of related data pieces (samples). All samples within\n",
    "a datacell have the same data type, and number of dimensions. The size of\n",
    "each dimension can be either fixed (the default behavior) or variable\n",
    "per sample.\n",
    "\n",
    "For fixed dimension sizes, all samples written to the datacell must have\n",
    "the same size that was initially specified upon datacell initialization.\n",
    "Variable size datacells on the other hand, can write samples with\n",
    "dimensions of any size less than a maximum which is required to be set\n",
    "upon datacell creation.\n",
    "\n",
    "Parameters\n",
    "----------\n",
    "name : str\n",
    "    The name assigned to this datacell.\n",
    "shape : Union[int, Tuple[int]]\n",
    "    The shape of the data samples which will be written in this datacell.\n",
    "    This argument and the `dtype` argument are required if a `prototype`\n",
    "    is not provided, defaults to None.\n",
    "dtype : np.dtype\n",
    "    The datatype of this datacell. This argument and the `shape` argument\n",
    "    are required if a `prototype` is not provided., defaults to None.\n",
    "prototype : np.ndarray\n",
    "    A sample array of correct datatype and shape which will be used to\n",
    "    initialize the datacell storage mechanisms. If this is provided, the\n",
    "    `shape` and `dtype` arguments must not be set, defaults to None.\n",
    "named_samples : bool, optional\n",
    "    If the samples in the datacell have names associated with them. If set,\n",
    "    all samples must be provided names, if not, no name will be assigned.\n",
    "    defaults to True, which means all samples should have names.\n",
    "variable_shape : bool, optional\n",
    "    If this is a variable sized datacell. If true, a the maximum shape is\n",
    "    set from the provided `shape` or `prototype` argument. Any sample\n",
    "    added to the datacell can then have dimension sizes <= to this\n",
    "    initial specification (so long as they have the same rank as what\n",
    "    was specified) defaults to False.\n",
    "backend : DEVELOPER USE ONLY. str, optional, kwarg only\n",
    "    Backend which should be used to write the datacell files on disk.\n",
    "\n",
    "Returns\n",
    "-------\n",
    ":class:`DatacellDataWriter`\n",
    "    instance object of the initialized datacell.\n",
    "\n",
    "Raises\n",
    "------\n",
    "ValueError\n",
    "    If provided name contains any non ascii, non alpha-numeric characters.\n",
    "ValueError\n",
    "    If required `shape` and `dtype` arguments are not provided in absence of\n",
    "    `prototype` argument.\n",
    "ValueError\n",
    "    If `prototype` argument is not a C contiguous ndarray.\n",
    "ValueError\n",
    "    If rank of maximum tensor shape > 31.\n",
    "ValueError\n",
    "    If zero sized dimension in `shape` argument\n",
    "ValueError\n",
    "    If the specified backend is not valid.\n",
    "```"
   ]
  },
  {
   "cell_type": "code",
   "execution_count": 8,
   "metadata": {},
   "outputs": [
    {
     "data": {
      "text/plain": [
       "Hangar DatacellDataWriter                 \n",
       "    Datacell Name             : mnist_training_images                \n",
       "    Schema Hash              : 976ba57033bb                \n",
       "    Variable Shape           : False                \n",
       "    (max) Shape              : (784,)                \n",
       "    Datatype                 : <class 'numpy.uint8'>                \n",
       "    Named Samples            : True                \n",
       "    Access Mode              : a                \n",
       "    Number of Samples        : 0                \n",
       "    Partial Remote Data Refs : False\n"
      ]
     },
     "execution_count": 8,
     "metadata": {},
     "output_type": "execute_result"
    }
   ],
   "source": [
    "co.datacells.init_datacell(name='mnist_training_images', prototype=trimgs[0])"
   ]
  },
  {
   "cell_type": "code",
   "execution_count": 9,
   "metadata": {},
   "outputs": [
    {
     "data": {
      "text/plain": [
       "Hangar DatacellDataWriter                 \n",
       "    Datacell Name             : mnist_training_images                \n",
       "    Schema Hash              : 976ba57033bb                \n",
       "    Variable Shape           : False                \n",
       "    (max) Shape              : (784,)                \n",
       "    Datatype                 : <class 'numpy.uint8'>                \n",
       "    Named Samples            : True                \n",
       "    Access Mode              : a                \n",
       "    Number of Samples        : 0                \n",
       "    Partial Remote Data Refs : False\n"
      ]
     },
     "execution_count": 9,
     "metadata": {},
     "output_type": "execute_result"
    }
   ],
   "source": [
    "co.datacells['mnist_training_images']"
   ]
  },
  {
   "cell_type": "markdown",
   "metadata": {},
   "source": [
    "### Interaction \n",
    "\n",
    "When a datacell is initialized, a datacell accessor object will be returned,\n",
    "however, depending on your use case, this may or may not be the most convenient\n",
    "way to access a datacell.\n",
    "\n",
    "In general, we have implemented a full ``dict`` mapping interface on top of all\n",
    "object. To access the ``'mnist_training_images'`` datacell you can just use a\n",
    "dict style access like the following (note: if operating in ipython/jupyter, the\n",
    "datacell keys will autocomplete for you)."
   ]
  },
  {
   "cell_type": "code",
   "execution_count": 10,
   "metadata": {},
   "outputs": [
    {
     "data": {
      "text/plain": [
       "Hangar DatacellDataWriter                 \n",
       "    Datacell Name             : mnist_training_images                \n",
       "    Schema Hash              : 976ba57033bb                \n",
       "    Variable Shape           : False                \n",
       "    (max) Shape              : (784,)                \n",
       "    Datatype                 : <class 'numpy.uint8'>                \n",
       "    Named Samples            : True                \n",
       "    Access Mode              : a                \n",
       "    Number of Samples        : 0                \n",
       "    Partial Remote Data Refs : False\n"
      ]
     },
     "execution_count": 10,
     "metadata": {},
     "output_type": "execute_result"
    }
   ],
   "source": [
    "co.datacells['mnist_training_images']"
   ]
  },
  {
   "cell_type": "code",
   "execution_count": 11,
   "metadata": {},
   "outputs": [],
   "source": [
    "train_dcell = co.datacells['mnist_training_images']"
   ]
  },
  {
   "cell_type": "markdown",
   "metadata": {},
   "source": [
    "the full dictionary style mapping interface is implemented"
   ]
  },
  {
   "cell_type": "markdown",
   "metadata": {},
   "source": [
    "#### Adding Data\n",
    "\n",
    "To add data to a named datacell, we can use dict-style setting, or the\n",
    "``.add`` method."
   ]
  },
  {
   "cell_type": "code",
   "execution_count": 12,
   "metadata": {},
   "outputs": [],
   "source": [
    "train_dcell['0'] = trimgs[0]\n",
    "train_dcell.add(data=trimgs[1], name='1')\n",
    "\n",
    "train_dcell['51'] = trimgs[51]"
   ]
  },
  {
   "cell_type": "markdown",
   "metadata": {},
   "source": [
    "#### How many samples are in the datacell?"
   ]
  },
  {
   "cell_type": "code",
   "execution_count": 13,
   "metadata": {},
   "outputs": [
    {
     "data": {
      "text/plain": [
       "3"
      ]
     },
     "execution_count": 13,
     "metadata": {},
     "output_type": "execute_result"
    }
   ],
   "source": [
    "len(train_dcell)"
   ]
  },
  {
   "cell_type": "markdown",
   "metadata": {},
   "source": [
    "#### Containment Testing"
   ]
  },
  {
   "cell_type": "code",
   "execution_count": 14,
   "metadata": {},
   "outputs": [
    {
     "data": {
      "text/plain": [
       "False"
      ]
     },
     "execution_count": 14,
     "metadata": {},
     "output_type": "execute_result"
    }
   ],
   "source": [
    "'hi' in train_dcell"
   ]
  },
  {
   "cell_type": "code",
   "execution_count": 15,
   "metadata": {},
   "outputs": [
    {
     "data": {
      "text/plain": [
       "True"
      ]
     },
     "execution_count": 15,
     "metadata": {},
     "output_type": "execute_result"
    }
   ],
   "source": [
    "'0' in train_dcell"
   ]
  },
  {
   "cell_type": "markdown",
   "metadata": {},
   "source": [
    "#### Dictionary Style Retrieval for known keys"
   ]
  },
  {
   "cell_type": "code",
   "execution_count": 16,
   "metadata": {},
   "outputs": [
    {
     "data": {
      "text/plain": [
       "<matplotlib.image.AxesImage at 0x11c16b9b0>"
      ]
     },
     "execution_count": 16,
     "metadata": {},
     "output_type": "execute_result"
    },
    {
     "data": {
      "image/png": "[encoded data removed]",
      "text/plain": [
       "<Figure size 432x288 with 1 Axes>"
      ]
     },
     "metadata": {
      "needs_background": "light"
     },
     "output_type": "display_data"
    }
   ],
   "source": [
    "out = train_dcell['0']\n",
    "plt.imshow(out.reshape(28, 28))"
   ]
  },
  {
   "cell_type": "code",
   "execution_count": 17,
   "metadata": {},
   "outputs": [
    {
     "data": {
      "text/plain": [
       "Hangar DatacellDataWriter                 \n",
       "    Datacell Name             : mnist_training_images                \n",
       "    Schema Hash              : 976ba57033bb                \n",
       "    Variable Shape           : False                \n",
       "    (max) Shape              : (784,)                \n",
       "    Datatype                 : <class 'numpy.uint8'>                \n",
       "    Named Samples            : True                \n",
       "    Access Mode              : a                \n",
       "    Number of Samples        : 3                \n",
       "    Partial Remote Data Refs : False\n"
      ]
     },
     "execution_count": 17,
     "metadata": {},
     "output_type": "execute_result"
    }
   ],
   "source": [
    "train_dcell"
   ]
  },
  {
   "cell_type": "markdown",
   "metadata": {},
   "source": [
    "### Dict style iteration supported out of the box"
   ]
  },
  {
   "cell_type": "code",
   "execution_count": 18,
   "metadata": {},
   "outputs": [
    {
     "name": "stdout",
     "output_type": "stream",
     "text": [
      "0\n",
      "1\n",
      "51\n"
     ]
    },
    {
     "data": {
      "image/png": "[encoded data removed]",
      "text/plain": [
       "<Figure size 432x288 with 1 Axes>"
      ]
     },
     "metadata": {
      "needs_background": "light"
     },
     "output_type": "display_data"
    },
    {
     "data": {
      "image/png": "[encoded data removed]",
      "text/plain": [
       "<Figure size 432x288 with 1 Axes>"
      ]
     },
     "metadata": {
      "needs_background": "light"
     },
     "output_type": "display_data"
    },
    {
     "data": {
      "image/png": "[encoded data removed]",
      "text/plain": [
       "<Figure size 432x288 with 1 Axes>"
      ]
     },
     "metadata": {
      "needs_background": "light"
     },
     "output_type": "display_data"
    }
   ],
   "source": [
    "for k in train_dcell:   \n",
    "    # equivalent method: for k in train_dcell.keys():\n",
    "    print(k)\n",
    "    \n",
    "    \n",
    "for v in train_dcell.values():\n",
    "    plt.imshow(v.reshape(28, 28))\n",
    "    plt.show()\n",
    "    \n",
    "myDict = {}\n",
    "for k, v in train_dcell.items():\n",
    "    myDict[k] = v"
   ]
  },
  {
   "cell_type": "markdown",
   "metadata": {},
   "source": [
    "### Performance\n",
    "\n",
    "Once you’ve completed an interactive exploration, be sure to use the context\n",
    "manager form of the ``.add`` and ``.get`` methods!\n",
    "\n",
    "In order to make sure that all your data is always safe in Hangar, the backend\n",
    "diligently ensures that all contexts (operations which can somehow interact\n",
    "with the record structures) are opened and closed appropriately. When you use the\n",
    "context manager form of a datacell object, we can offload a significant amount of\n",
    "work to the python runtime, and dramatically increase read and write speeds.\n",
    "\n",
    "Most datacells we’ve tested see an increased throughput differential of 250% -\n",
    "500% for writes and 300% - 600% for reads when comparing using the context\n",
    "manager form vs the naked form!"
   ]
  },
  {
   "cell_type": "code",
   "execution_count": 10,
   "metadata": {},
   "outputs": [
    {
     "name": "stderr",
     "output_type": "stream",
     "text": [
      "  0%|          | 0/50000 [00:00<?, ?it/s]"
     ]
    },
    {
     "name": "stdout",
     "output_type": "stream",
     "text": [
      "beginning non-context manager form\n"
     ]
    },
    {
     "name": "stderr",
     "output_type": "stream",
     "text": [
      "100%|██████████| 50000/50000 [01:29<00:00, 570.33it/s]\n"
     ]
    },
    {
     "name": "stdout",
     "output_type": "stream",
     "text": [
      "Finished non-context manager form in: 90.59357118606567 seconds\n"
     ]
    },
    {
     "name": "stderr",
     "output_type": "stream",
     "text": [
      "  1%|          | 500/50000 [00:00<00:05, 9598.43it/s]"
     ]
    },
    {
     "name": "stdout",
     "output_type": "stream",
     "text": [
      "beginning context manager form\n"
     ]
    },
    {
     "name": "stderr",
     "output_type": "stream",
     "text": [
      "\n"
     ]
    },
    {
     "name": "stdout",
     "output_type": "stream",
     "text": [
      "Finished context manager form in: 20.370257139205933 seconds\n"
     ]
    }
   ],
   "source": [
    "import time\n",
    "\n",
    "# ------------------ Context Manager Form ----------------------\n",
    "\n",
    "\n",
    "dcell_trimgs = co.datacells.init_datacell(name='train_images', prototype=sample_trimg)\n",
    "dcell_trlabels = co.datacells.init_datacell(name='train_labels', prototype=sample_trlabel)\n",
    "\n",
    "print(f'beginning non-context manager form')\n",
    "start_time = time.time()\n",
    "pbar = tqdm(total=trimgs.shape[0], leave=True)\n",
    "for idx, img in enumerate(trimgs):\n",
    "    if (idx % 500 == 0):\n",
    "        pbar.update(500)\n",
    "\n",
    "    dcell_trimgs.add(data=img, name=str(idx))\n",
    "    dcell_trlabels.add(data=np.array([trlabels[idx]]), name=str(idx))\n",
    "        \n",
    "pbar.close()\n",
    "print(f'Finished non-context manager form in: {time.time() - start_time} seconds')\n",
    "\n",
    "co.reset_staging_area()\n",
    "co.close()\n",
    "\n",
    "# ----------------- Non-Context Manager Form ----------------------\n",
    "\n",
    "co = repo.checkout(write=True)\n",
    "\n",
    "dcell_trimgs = co.datacells.init_datacell(name='train_images', prototype=sample_trimg)\n",
    "dcell_trlabels = co.datacells.init_datacell(name='train_labels', prototype=sample_trlabel)\n",
    "\n",
    "print(f'beginning context manager form')\n",
    "start_time = time.time()\n",
    "pbar = tqdm(total=trimgs.shape[0], leave=True)\n",
    "with dcell_trimgs, dcell_trlabels:\n",
    "    for idx, img in enumerate(trimgs):\n",
    "        if (idx % 500 == 0):\n",
    "            pbar.update(500)\n",
    "\n",
    "        dcell_trimgs.add(data=img, name=str(idx))\n",
    "        dcell_trlabels.add(data=np.array([trlabels[idx]]), name=str(idx))\n",
    "\n",
    "        pbar.close()\n",
    "print(f'Finished context manager form in: {time.time() - start_time} seconds')"
   ]
  },
  {
   "cell_type": "markdown",
   "metadata": {},
   "source": [
    "Clearly, the context manager form is far and away superior, however we fell that\n",
    "for the purposes of interactive use that the \"Naked\" form is valubal to the\n",
    "average user!"
   ]
  },
  {
   "cell_type": "markdown",
   "metadata": {},
   "source": [
    "### Commiting Changes\n",
    "\n",
    "Once you have made a set of changes you wan't to commit, just simply call the `commit()` method (and pass in a message)!"
   ]
  },
  {
   "cell_type": "code",
   "execution_count": 21,
   "metadata": {},
   "outputs": [
    {
     "data": {
      "text/plain": [
       "'d2a9e7559252fba729694dd31f3474710b9153e9'"
      ]
     },
     "execution_count": 21,
     "metadata": {},
     "output_type": "execute_result"
    }
   ],
   "source": [
    "co.commit('hello world, this is my first hangar commit')"
   ]
  },
  {
   "cell_type": "markdown",
   "metadata": {},
   "source": [
    "The returned value (`'d2a9e7559252fba729694dd31f3474710b9153e9'`) is the commit hash of this commit. It\n",
    "may be useful to assign this to a variable and follow this up by creating a\n",
    "branch from this commit! (Branching to be covered in the next round of\n",
    "tutorials)"
   ]
  },
  {
   "cell_type": "markdown",
   "metadata": {},
   "source": [
    "#### Don't Forget to Close the Write-Enabled Checkout to Release the Lock!\n",
    "\n",
    "We mentioned in `Checking out the repo for writing`_ that when a\n",
    "``write-enabled`` checkout is created, it places a lock on writers until it is\n",
    "closed. If for whatever reason the program terminates without closing the\n",
    "write-enabled checkout, this lock will persist (forever technically, but\n",
    "realistically until it is manually freed).\n",
    "\n",
    "Luckily, preventing this issue from occurring is as simple as calling\n",
    "``close()``!"
   ]
  },
  {
   "cell_type": "code",
   "execution_count": 34,
   "metadata": {},
   "outputs": [],
   "source": [
    "# Just call...\n",
    "\n",
    "co.close()"
   ]
  },
  {
   "cell_type": "markdown",
   "metadata": {},
   "source": [
    "#### But if you did forget, and you recieve a `PermissionError` next time you open a checkout\n",
    "\n",
    "```\n",
    "PermissionError: Cannot aquire the writer lock. Only one instance of\n",
    "a writer checkout can be active at a time. If the last checkout of this \n",
    "repository did not properly close, or a crash occured, the lock must be\n",
    "manually freed before another writer can be instantiated.\n",
    "```\n",
    "\n",
    "This is a dangerous operation, and is one of the only ways where a user can put\n",
    "data in their repository at risk! If another python process is still holding the\n",
    "lock, do NOT force the release. Kill the process (that's totally fine to do at\n",
    "any time, then force the lock release)."
   ]
  },
  {
   "cell_type": "code",
   "execution_count": 35,
   "metadata": {},
   "outputs": [
    {
     "data": {
      "text/plain": [
       "True"
      ]
     },
     "execution_count": 35,
     "metadata": {},
     "output_type": "execute_result"
    }
   ],
   "source": [
    "repo.force_release_writer_lock()"
   ]
  },
  {
   "cell_type": "markdown",
   "metadata": {},
   "source": [
    "### Inspecting state from the top!\n",
    "\n",
    "After your first commit, the summary and log methods will begin to work, and you can either print the stream to the console (as shown below), or you can \n",
    "dig deep into the internal of how hangar thinks about your data! (To be covered in an advanced tutorial later on). \n",
    "\n",
    "The point is, regardless of your level of interaction with a live hangar repository, all level of state is accessable from the top, and in general has been built to be the only way to directly access it!"
   ]
  },
  {
   "cell_type": "code",
   "execution_count": 36,
   "metadata": {},
   "outputs": [
    {
     "name": "stdout",
     "output_type": "stream",
     "text": [
      "Summary of Contents Contained in Data Repository \n",
      " \n",
      "================== \n",
      "| Repository Info \n",
      "|----------------- \n",
      "|  Base Directory: /Users/rick/projects/tensorwerk/hangar/dev/mnist \n",
      "|  Disk Usage: 69.93 MB \n",
      " \n",
      "=================== \n",
      "| Commit Details \n",
      "------------------- \n",
      "|  Commit: 25a6ca6b84112ab209c1916c29ee1075fe8a6b52 \n",
      "|  Created: Mon Aug  5 23:44:26 2019 \n",
      "|  By: Rick Izzo \n",
      "|  Email: rick@tensorwerk.com \n",
      "|  Message: commit on testbranch \n",
      " \n",
      "================== \n",
      "| DataSets \n",
      "|----------------- \n",
      "|  Number of Named Datacells: 3 \n",
      "|\n",
      "|  * Datacell Name: mnist_training_images \n",
      "|    Num Arrays: 3 \n",
      "|    Details: \n",
      "|    - schema_hash: 976ba57033bb \n",
      "|    - schema_dtype: 2 \n",
      "|    - schema_is_var: False \n",
      "|    - schema_max_shape: (784,) \n",
      "|    - schema_is_named: True \n",
      "|    - schema_default_backend: 00 \n",
      "|\n",
      "|  * Datacell Name: train_images \n",
      "|    Num Arrays: 50000 \n",
      "|    Details: \n",
      "|    - schema_hash: 976ba57033bb \n",
      "|    - schema_dtype: 2 \n",
      "|    - schema_is_var: False \n",
      "|    - schema_max_shape: (784,) \n",
      "|    - schema_is_named: True \n",
      "|    - schema_default_backend: 00 \n",
      "|\n",
      "|  * Datacell Name: train_labels \n",
      "|    Num Arrays: 50000 \n",
      "|    Details: \n",
      "|    - schema_hash: 631f0f57c469 \n",
      "|    - schema_dtype: 7 \n",
      "|    - schema_is_var: False \n",
      "|    - schema_max_shape: (1,) \n",
      "|    - schema_is_named: True \n",
      "|    - schema_default_backend: 10 \n",
      " \n",
      "================== \n",
      "| Metadata: \n",
      "|----------------- \n",
      "|  Number of Keys: 1 \n",
      "\n"
     ]
    }
   ],
   "source": [
    "repo.summary()"
   ]
  },
  {
   "cell_type": "code",
   "execution_count": 37,
   "metadata": {},
   "outputs": [
    {
     "name": "stdout",
     "output_type": "stream",
     "text": [
      "* 25a6ca6b84112ab209c1916c29ee1075fe8a6b52 (\u001b[1;31mtestbranch\u001b[m) : commit on testbranch\n",
      "* d2a9e7559252fba729694dd31f3474710b9153e9 : hello world, this is my first hangar commit\n"
     ]
    }
   ],
   "source": [
    "repo.log()"
   ]
  }
 ],
 "metadata": {
  "kernelspec": {
   "display_name": "Python 3",
   "language": "python",
   "name": "python3"
  },
  "language_info": {
   "codemirror_mode": {
    "name": "ipython",
    "version": 3
   },
   "file_extension": ".py",
   "mimetype": "text/x-python",
   "name": "python",
   "nbconvert_exporter": "python",
   "pygments_lexer": "ipython3",
   "version": "3.7.3"
  }
 },
 "nbformat": 4,
 "nbformat_minor": 4
}
